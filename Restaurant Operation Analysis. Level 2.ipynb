{
 "cells": [
  {
   "cell_type": "markdown",
   "id": "418ddfb0",
   "metadata": {},
   "source": [
    "# Table Booking and Online Delivery Analysis"
   ]
  },
  {
   "cell_type": "code",
   "execution_count": 1,
   "id": "717df3ec",
   "metadata": {},
   "outputs": [],
   "source": [
    "#importing the dependencies\n",
    "import numpy as np\n",
    "import pandas as pd\n",
    "from sklearn.model_selection import train_test_split\n",
    "from sklearn.linear_model import LogisticRegression\n",
    "from sklearn.metrics import accuracy_score\n",
    "import matplotlib.pyplot as plt\n",
    "import seaborn as sns"
   ]
  },
  {
   "cell_type": "code",
   "execution_count": 3,
   "id": "dc64390a",
   "metadata": {},
   "outputs": [
    {
     "data": {
      "text/html": [
       "<div>\n",
       "<style scoped>\n",
       "    .dataframe tbody tr th:only-of-type {\n",
       "        vertical-align: middle;\n",
       "    }\n",
       "\n",
       "    .dataframe tbody tr th {\n",
       "        vertical-align: top;\n",
       "    }\n",
       "\n",
       "    .dataframe thead th {\n",
       "        text-align: right;\n",
       "    }\n",
       "</style>\n",
       "<table border=\"1\" class=\"dataframe\">\n",
       "  <thead>\n",
       "    <tr style=\"text-align: right;\">\n",
       "      <th></th>\n",
       "      <th>Restaurant ID</th>\n",
       "      <th>Restaurant Name</th>\n",
       "      <th>Country Code</th>\n",
       "      <th>City</th>\n",
       "      <th>Address</th>\n",
       "      <th>Locality</th>\n",
       "      <th>Locality Verbose</th>\n",
       "      <th>Longitude</th>\n",
       "      <th>Latitude</th>\n",
       "      <th>Cuisines</th>\n",
       "      <th>...</th>\n",
       "      <th>Currency</th>\n",
       "      <th>Has Table booking</th>\n",
       "      <th>Has Online delivery</th>\n",
       "      <th>Is delivering now</th>\n",
       "      <th>Switch to order menu</th>\n",
       "      <th>Price range</th>\n",
       "      <th>Aggregate rating</th>\n",
       "      <th>Rating color</th>\n",
       "      <th>Rating text</th>\n",
       "      <th>Votes</th>\n",
       "    </tr>\n",
       "  </thead>\n",
       "  <tbody>\n",
       "    <tr>\n",
       "      <th>0</th>\n",
       "      <td>6317637</td>\n",
       "      <td>Le Petit Souffle</td>\n",
       "      <td>162</td>\n",
       "      <td>Makati City</td>\n",
       "      <td>Third Floor, Century City Mall, Kalayaan Avenu...</td>\n",
       "      <td>Century City Mall, Poblacion, Makati City</td>\n",
       "      <td>Century City Mall, Poblacion, Makati City, Mak...</td>\n",
       "      <td>121.027535</td>\n",
       "      <td>14.565443</td>\n",
       "      <td>French, Japanese, Desserts</td>\n",
       "      <td>...</td>\n",
       "      <td>Botswana Pula(P)</td>\n",
       "      <td>Yes</td>\n",
       "      <td>No</td>\n",
       "      <td>No</td>\n",
       "      <td>No</td>\n",
       "      <td>3</td>\n",
       "      <td>4.8</td>\n",
       "      <td>Dark Green</td>\n",
       "      <td>Excellent</td>\n",
       "      <td>314</td>\n",
       "    </tr>\n",
       "    <tr>\n",
       "      <th>1</th>\n",
       "      <td>6304287</td>\n",
       "      <td>Izakaya Kikufuji</td>\n",
       "      <td>162</td>\n",
       "      <td>Makati City</td>\n",
       "      <td>Little Tokyo, 2277 Chino Roces Avenue, Legaspi...</td>\n",
       "      <td>Little Tokyo, Legaspi Village, Makati City</td>\n",
       "      <td>Little Tokyo, Legaspi Village, Makati City, Ma...</td>\n",
       "      <td>121.014101</td>\n",
       "      <td>14.553708</td>\n",
       "      <td>Japanese</td>\n",
       "      <td>...</td>\n",
       "      <td>Botswana Pula(P)</td>\n",
       "      <td>Yes</td>\n",
       "      <td>No</td>\n",
       "      <td>No</td>\n",
       "      <td>No</td>\n",
       "      <td>3</td>\n",
       "      <td>4.5</td>\n",
       "      <td>Dark Green</td>\n",
       "      <td>Excellent</td>\n",
       "      <td>591</td>\n",
       "    </tr>\n",
       "    <tr>\n",
       "      <th>2</th>\n",
       "      <td>6300002</td>\n",
       "      <td>Heat - Edsa Shangri-La</td>\n",
       "      <td>162</td>\n",
       "      <td>Mandaluyong City</td>\n",
       "      <td>Edsa Shangri-La, 1 Garden Way, Ortigas, Mandal...</td>\n",
       "      <td>Edsa Shangri-La, Ortigas, Mandaluyong City</td>\n",
       "      <td>Edsa Shangri-La, Ortigas, Mandaluyong City, Ma...</td>\n",
       "      <td>121.056831</td>\n",
       "      <td>14.581404</td>\n",
       "      <td>Seafood, Asian, Filipino, Indian</td>\n",
       "      <td>...</td>\n",
       "      <td>Botswana Pula(P)</td>\n",
       "      <td>Yes</td>\n",
       "      <td>No</td>\n",
       "      <td>No</td>\n",
       "      <td>No</td>\n",
       "      <td>4</td>\n",
       "      <td>4.4</td>\n",
       "      <td>Green</td>\n",
       "      <td>Very Good</td>\n",
       "      <td>270</td>\n",
       "    </tr>\n",
       "    <tr>\n",
       "      <th>3</th>\n",
       "      <td>6318506</td>\n",
       "      <td>Ooma</td>\n",
       "      <td>162</td>\n",
       "      <td>Mandaluyong City</td>\n",
       "      <td>Third Floor, Mega Fashion Hall, SM Megamall, O...</td>\n",
       "      <td>SM Megamall, Ortigas, Mandaluyong City</td>\n",
       "      <td>SM Megamall, Ortigas, Mandaluyong City, Mandal...</td>\n",
       "      <td>121.056475</td>\n",
       "      <td>14.585318</td>\n",
       "      <td>Japanese, Sushi</td>\n",
       "      <td>...</td>\n",
       "      <td>Botswana Pula(P)</td>\n",
       "      <td>No</td>\n",
       "      <td>No</td>\n",
       "      <td>No</td>\n",
       "      <td>No</td>\n",
       "      <td>4</td>\n",
       "      <td>4.9</td>\n",
       "      <td>Dark Green</td>\n",
       "      <td>Excellent</td>\n",
       "      <td>365</td>\n",
       "    </tr>\n",
       "    <tr>\n",
       "      <th>4</th>\n",
       "      <td>6314302</td>\n",
       "      <td>Sambo Kojin</td>\n",
       "      <td>162</td>\n",
       "      <td>Mandaluyong City</td>\n",
       "      <td>Third Floor, Mega Atrium, SM Megamall, Ortigas...</td>\n",
       "      <td>SM Megamall, Ortigas, Mandaluyong City</td>\n",
       "      <td>SM Megamall, Ortigas, Mandaluyong City, Mandal...</td>\n",
       "      <td>121.057508</td>\n",
       "      <td>14.584450</td>\n",
       "      <td>Japanese, Korean</td>\n",
       "      <td>...</td>\n",
       "      <td>Botswana Pula(P)</td>\n",
       "      <td>Yes</td>\n",
       "      <td>No</td>\n",
       "      <td>No</td>\n",
       "      <td>No</td>\n",
       "      <td>4</td>\n",
       "      <td>4.8</td>\n",
       "      <td>Dark Green</td>\n",
       "      <td>Excellent</td>\n",
       "      <td>229</td>\n",
       "    </tr>\n",
       "  </tbody>\n",
       "</table>\n",
       "<p>5 rows × 21 columns</p>\n",
       "</div>"
      ],
      "text/plain": [
       "   Restaurant ID         Restaurant Name  Country Code              City  \\\n",
       "0        6317637        Le Petit Souffle           162       Makati City   \n",
       "1        6304287        Izakaya Kikufuji           162       Makati City   \n",
       "2        6300002  Heat - Edsa Shangri-La           162  Mandaluyong City   \n",
       "3        6318506                    Ooma           162  Mandaluyong City   \n",
       "4        6314302             Sambo Kojin           162  Mandaluyong City   \n",
       "\n",
       "                                             Address  \\\n",
       "0  Third Floor, Century City Mall, Kalayaan Avenu...   \n",
       "1  Little Tokyo, 2277 Chino Roces Avenue, Legaspi...   \n",
       "2  Edsa Shangri-La, 1 Garden Way, Ortigas, Mandal...   \n",
       "3  Third Floor, Mega Fashion Hall, SM Megamall, O...   \n",
       "4  Third Floor, Mega Atrium, SM Megamall, Ortigas...   \n",
       "\n",
       "                                     Locality  \\\n",
       "0   Century City Mall, Poblacion, Makati City   \n",
       "1  Little Tokyo, Legaspi Village, Makati City   \n",
       "2  Edsa Shangri-La, Ortigas, Mandaluyong City   \n",
       "3      SM Megamall, Ortigas, Mandaluyong City   \n",
       "4      SM Megamall, Ortigas, Mandaluyong City   \n",
       "\n",
       "                                    Locality Verbose   Longitude   Latitude  \\\n",
       "0  Century City Mall, Poblacion, Makati City, Mak...  121.027535  14.565443   \n",
       "1  Little Tokyo, Legaspi Village, Makati City, Ma...  121.014101  14.553708   \n",
       "2  Edsa Shangri-La, Ortigas, Mandaluyong City, Ma...  121.056831  14.581404   \n",
       "3  SM Megamall, Ortigas, Mandaluyong City, Mandal...  121.056475  14.585318   \n",
       "4  SM Megamall, Ortigas, Mandaluyong City, Mandal...  121.057508  14.584450   \n",
       "\n",
       "                           Cuisines  ...          Currency Has Table booking  \\\n",
       "0        French, Japanese, Desserts  ...  Botswana Pula(P)               Yes   \n",
       "1                          Japanese  ...  Botswana Pula(P)               Yes   \n",
       "2  Seafood, Asian, Filipino, Indian  ...  Botswana Pula(P)               Yes   \n",
       "3                   Japanese, Sushi  ...  Botswana Pula(P)                No   \n",
       "4                  Japanese, Korean  ...  Botswana Pula(P)               Yes   \n",
       "\n",
       "  Has Online delivery Is delivering now Switch to order menu Price range  \\\n",
       "0                  No                No                   No           3   \n",
       "1                  No                No                   No           3   \n",
       "2                  No                No                   No           4   \n",
       "3                  No                No                   No           4   \n",
       "4                  No                No                   No           4   \n",
       "\n",
       "   Aggregate rating  Rating color Rating text Votes  \n",
       "0               4.8    Dark Green   Excellent   314  \n",
       "1               4.5    Dark Green   Excellent   591  \n",
       "2               4.4         Green   Very Good   270  \n",
       "3               4.9    Dark Green   Excellent   365  \n",
       "4               4.8    Dark Green   Excellent   229  \n",
       "\n",
       "[5 rows x 21 columns]"
      ]
     },
     "execution_count": 3,
     "metadata": {},
     "output_type": "execute_result"
    }
   ],
   "source": [
    "# read in the file \n",
    "Restaurant_enterprise_data_task2= pd.read_csv(r\"C:\\Users\\HP\\Documents\\cognifyz\\Dataset .csv\")\n",
    "\n",
    "# look at the first few lines\n",
    "Restaurant_enterprise_data_task2.head()"
   ]
  },
  {
   "cell_type": "code",
   "execution_count": 4,
   "id": "6a6eb429",
   "metadata": {},
   "outputs": [
    {
     "name": "stdout",
     "output_type": "stream",
     "text": [
      "Restaurant ID             int64\n",
      "Restaurant Name          object\n",
      "Country Code              int64\n",
      "City                     object\n",
      "Address                  object\n",
      "Locality                 object\n",
      "Locality Verbose         object\n",
      "Longitude               float64\n",
      "Latitude                float64\n",
      "Cuisines                 object\n",
      "Average Cost for two      int64\n",
      "Currency                 object\n",
      "Has Table booking        object\n",
      "Has Online delivery      object\n",
      "Is delivering now        object\n",
      "Switch to order menu     object\n",
      "Price range               int64\n",
      "Aggregate rating        float64\n",
      "Rating color             object\n",
      "Rating text              object\n",
      "Votes                     int64\n",
      "dtype: object\n"
     ]
    }
   ],
   "source": [
    "print(Restaurant_enterprise_data_task2.dtypes)\n",
    "#The data types appear appropriate for the columns, with numerical values correctly identified as integers or floats, and categorical data as objects."
   ]
  },
  {
   "cell_type": "code",
   "execution_count": 5,
   "id": "39ccbaec",
   "metadata": {},
   "outputs": [
    {
     "name": "stdout",
     "output_type": "stream",
     "text": [
      "Total missing values: 9\n"
     ]
    }
   ],
   "source": [
    "# unique value shows 9542 while shape shows 9551,,, so Total missing values in the DataFrame\n",
    "total_missing = Restaurant_enterprise_data_task2.isnull().sum().sum()\n",
    "print(f\"Total missing values: {total_missing}\")"
   ]
  },
  {
   "cell_type": "code",
   "execution_count": 6,
   "id": "2b9feb07",
   "metadata": {},
   "outputs": [
    {
     "name": "stdout",
     "output_type": "stream",
     "text": [
      "Restaurant ID           0\n",
      "Restaurant Name         0\n",
      "Country Code            0\n",
      "City                    0\n",
      "Address                 0\n",
      "Locality                0\n",
      "Locality Verbose        0\n",
      "Longitude               0\n",
      "Latitude                0\n",
      "Cuisines                0\n",
      "Average Cost for two    0\n",
      "Currency                0\n",
      "Has Table booking       0\n",
      "Has Online delivery     0\n",
      "Is delivering now       0\n",
      "Switch to order menu    0\n",
      "Price range             0\n",
      "Aggregate rating        0\n",
      "Rating color            0\n",
      "Rating text             0\n",
      "Votes                   0\n",
      "dtype: int64\n"
     ]
    }
   ],
   "source": [
    "# Fill missing values in the 'Cuisines' column with 'Not Specified'\n",
    "Restaurant_enterprise_data_task2['Cuisines'].fillna('Not Specified', inplace=True)\n",
    "\n",
    "# Verify that there are no more missing values\n",
    "missing_values_after = Restaurant_enterprise_data_task2.isnull().sum()\n",
    "print(missing_values_after)"
   ]
  },
  {
   "cell_type": "code",
   "execution_count": 7,
   "id": "a79bc3c6",
   "metadata": {},
   "outputs": [
    {
     "data": {
      "text/plain": [
       "Index(['Restaurant ID', 'Restaurant Name', 'Country Code', 'City', 'Address',\n",
       "       'Locality', 'Locality Verbose', 'Longitude', 'Latitude', 'Cuisines',\n",
       "       'Average Cost for two', 'Currency', 'Has Table booking',\n",
       "       'Has Online delivery', 'Is delivering now', 'Switch to order menu',\n",
       "       'Price range', 'Aggregate rating', 'Rating color', 'Rating text',\n",
       "       'Votes'],\n",
       "      dtype='object')"
      ]
     },
     "execution_count": 7,
     "metadata": {},
     "output_type": "execute_result"
    }
   ],
   "source": [
    "#show columns\n",
    "Restaurant_enterprise_data_task2.columns"
   ]
  },
  {
   "cell_type": "code",
   "execution_count": 9,
   "id": "28b55276",
   "metadata": {},
   "outputs": [],
   "source": [
    "#Determining the percentage of restaurants that offer table booking and online delivery."
   ]
  },
  {
   "cell_type": "code",
   "execution_count": 10,
   "id": "b53697d6",
   "metadata": {},
   "outputs": [
    {
     "name": "stdout",
     "output_type": "stream",
     "text": [
      "Percentage of restaurants that offer table booking: 12.12%\n",
      "Percentage of restaurants that offer online delivery: 25.66%\n"
     ]
    }
   ],
   "source": [
    "# Count the number of restaurants offering table booking ('Yes' values)\n",
    "table_booking_count = Restaurant_enterprise_data_task2[Restaurant_enterprise_data_task2['Has Table booking'] == 'Yes'].shape[0]\n",
    "\n",
    "# Count the number of restaurants offering online delivery ('Yes' values)\n",
    "online_delivery_count = Restaurant_enterprise_data_task2[Restaurant_enterprise_data_task2['Has Online delivery'] == 'Yes'].shape[0]\n",
    "\n",
    "# Total number of restaurants (rows in the dataset)\n",
    "total_restaurants = len(Restaurant_enterprise_data_task2)\n",
    "\n",
    "# Calculate percentages\n",
    "table_booking_percentage = (table_booking_count / total_restaurants) * 100\n",
    "online_delivery_percentage = (online_delivery_count / total_restaurants) * 100\n",
    "\n",
    "# Display the results\n",
    "print(f\"Percentage of restaurants that offer table booking: {table_booking_percentage:.2f}%\")\n",
    "print(f\"Percentage of restaurants that offer online delivery: {online_delivery_percentage:.2f}%\")\n",
    "\n"
   ]
  },
  {
   "cell_type": "code",
   "execution_count": 11,
   "id": "ffe482da",
   "metadata": {},
   "outputs": [
    {
     "name": "stdout",
     "output_type": "stream",
     "text": [
      "Has Table booking\n",
      "No     2.559359\n",
      "Yes    3.441969\n",
      "Name: Aggregate rating, dtype: float64\n"
     ]
    }
   ],
   "source": [
    "#Comparing avg rating of those with table booking to those without\n",
    "\n",
    "# Group restaurants by whether they have table booking or not\n",
    "table_booking_avg_rating = Restaurant_enterprise_data_task2.groupby('Has Table booking')['Aggregate rating'].mean()\n",
    "\n",
    "# Display the results\n",
    "print(table_booking_avg_rating)"
   ]
  },
  {
   "cell_type": "code",
   "execution_count": 12,
   "id": "aea32c95",
   "metadata": {},
   "outputs": [
    {
     "name": "stdout",
     "output_type": "stream",
     "text": [
      "Has Online delivery         No        Yes\n",
      "Price range                              \n",
      "1                    84.225923  15.774077\n",
      "2                    58.689367  41.310633\n",
      "3                    70.809659  29.190341\n",
      "4                    90.955631   9.044369\n"
     ]
    }
   ],
   "source": [
    "# Group by 'Price range' and calculate the percentage of restaurants with online delivery\n",
    "online_delivery_by_price = Restaurant_enterprise_data_task2.groupby('Price range')['Has Online delivery'].value_counts(normalize=True).unstack().fillna(0)\n",
    "\n",
    "# Convert to percentage\n",
    "online_delivery_by_price = online_delivery_by_price * 100\n",
    "\n",
    "# Display the result\n",
    "print(online_delivery_by_price)\n"
   ]
  },
  {
   "cell_type": "code",
   "execution_count": 13,
   "id": "401e0563",
   "metadata": {},
   "outputs": [
    {
     "data": {
      "image/png": "[encoded data removed]",
      "text/plain": [
       "<Figure size 800x600 with 1 Axes>"
      ]
     },
     "metadata": {},
     "output_type": "display_data"
    }
   ],
   "source": [
    "import matplotlib.pyplot as plt\n",
    "\n",
    "# Plotting the comparison of online delivery availability across price ranges\n",
    "online_delivery_by_price.plot(kind='bar', stacked=True, figsize=(8, 6), color=['lightblue', 'lightcoral'])\n",
    "\n",
    "plt.title('Availability of Online Delivery by Price Range')\n",
    "plt.xlabel('Price Range')\n",
    "plt.ylabel('Percentage of Restaurants')\n",
    "plt.xticks(rotation=0)\n",
    "plt.legend(title='Has Online Delivery', labels=['No', 'Yes'])\n",
    "plt.show()\n"
   ]
  },
  {
   "cell_type": "markdown",
   "id": "578c99fa",
   "metadata": {},
   "source": [
    "# Price Range Analysis. Level2 (Task 2)"
   ]
  },
  {
   "cell_type": "code",
   "execution_count": 14,
   "id": "5418cc80",
   "metadata": {},
   "outputs": [
    {
     "name": "stdout",
     "output_type": "stream",
     "text": [
      "[3 4 2 1]\n"
     ]
    }
   ],
   "source": [
    "# Check the unique values in the 'Price range' column\n",
    "print(Restaurant_enterprise_data_task2['Price range'].unique())"
   ]
  },
  {
   "cell_type": "code",
   "execution_count": 15,
   "id": "a4ffc58e",
   "metadata": {},
   "outputs": [
    {
     "name": "stdout",
     "output_type": "stream",
     "text": [
      "The most common price range is 1 with 4444 restaurants.\n"
     ]
    }
   ],
   "source": [
    "# Count the occurrences of each price range\n",
    "price_range_counts = Restaurant_enterprise_data_task2['Price range'].value_counts()\n",
    "\n",
    "# Display the most common price range\n",
    "most_common_price_range = price_range_counts.idxmax()\n",
    "most_common_count = price_range_counts.max()\n",
    "\n",
    "# Print the result\n",
    "print(f\"The most common price range is {most_common_price_range} with {most_common_count} restaurants.\")\n"
   ]
  },
  {
   "cell_type": "code",
   "execution_count": 16,
   "id": "de3ca6ad",
   "metadata": {},
   "outputs": [
    {
     "data": {
      "text/plain": [
       "1    4444\n",
       "2    3113\n",
       "3    1408\n",
       "4     586\n",
       "Name: Price range, dtype: int64"
      ]
     },
     "execution_count": 16,
     "metadata": {},
     "output_type": "execute_result"
    }
   ],
   "source": [
    "Restaurant_enterprise_data_task2['Price range'].value_counts()"
   ]
  },
  {
   "cell_type": "code",
   "execution_count": 17,
   "id": "95db8b9b",
   "metadata": {},
   "outputs": [
    {
     "name": "stdout",
     "output_type": "stream",
     "text": [
      "Price range\n",
      "1    1.999887\n",
      "2    2.941054\n",
      "3    3.683381\n",
      "4    3.817918\n",
      "Name: Aggregate rating, dtype: float64\n"
     ]
    }
   ],
   "source": [
    "# Group by 'Price range' and calculate the mean of 'Aggregate rating'\n",
    "average_ratings_by_price_range = Restaurant_enterprise_data_task2.groupby('Price range')['Aggregate rating'].mean()\n",
    "\n",
    "# Display the results\n",
    "print(average_ratings_by_price_range)"
   ]
  },
  {
   "cell_type": "code",
   "execution_count": 18,
   "id": "27bb4a1f",
   "metadata": {
    "scrolled": true
   },
   "outputs": [
    {
     "name": "stdout",
     "output_type": "stream",
     "text": [
      "    Price range Rating color  Aggregate rating\n",
      "0             1   Dark Green          4.668750\n",
      "6             2   Dark Green          4.627536\n",
      "12            3   Dark Green          4.646032\n",
      "18            4   Dark Green          4.709459\n"
     ]
    }
   ],
   "source": [
    "# Group by 'Price range' and 'Rating color' and calculate the average rating\n",
    "grouped_data = Restaurant_enterprise_data_task2.groupby(['Price range', 'Rating color'])['Aggregate rating'].mean().reset_index()\n",
    "\n",
    "# Find the 'Rating color' with the highest average rating for each price range\n",
    "highest_avg_rating = grouped_data.loc[grouped_data.groupby('Price range')['Aggregate rating'].idxmax()]\n",
    "\n",
    "# Display the result\n",
    "print(highest_avg_rating)"
   ]
  },
  {
   "cell_type": "markdown",
   "id": "9ab3566a",
   "metadata": {},
   "source": [
    "# Feature Engineering. Level 2(Task 3)"
   ]
  },
  {
   "cell_type": "code",
   "execution_count": 21,
   "id": "e5b1817a",
   "metadata": {},
   "outputs": [],
   "source": [
    "#Extracting additional features from the existing columns, such as the length of the restaurant name or address."
   ]
  },
  {
   "cell_type": "code",
   "execution_count": 22,
   "id": "c32ee37b",
   "metadata": {},
   "outputs": [
    {
     "name": "stdout",
     "output_type": "stream",
     "text": [
      "          Restaurant Name  Restaurant Name Length  \\\n",
      "0        Le Petit Souffle                      16   \n",
      "1        Izakaya Kikufuji                      16   \n",
      "2  Heat - Edsa Shangri-La                      22   \n",
      "3                    Ooma                       4   \n",
      "4             Sambo Kojin                      11   \n",
      "\n",
      "                                             Address  Address Length  \\\n",
      "0  Third Floor, Century City Mall, Kalayaan Avenu...              71   \n",
      "1  Little Tokyo, 2277 Chino Roces Avenue, Legaspi...              67   \n",
      "2  Edsa Shangri-La, 1 Garden Way, Ortigas, Mandal...              56   \n",
      "3  Third Floor, Mega Fashion Hall, SM Megamall, O...              70   \n",
      "4  Third Floor, Mega Atrium, SM Megamall, Ortigas...              64   \n",
      "\n",
      "                           Cuisines  Number of Cuisines  Is Cafe  Is Bar  \n",
      "0        French, Japanese, Desserts                   3    False   False  \n",
      "1                          Japanese                   1    False   False  \n",
      "2  Seafood, Asian, Filipino, Indian                   4    False   False  \n",
      "3                   Japanese, Sushi                   2    False   False  \n",
      "4                  Japanese, Korean                   2    False   False  \n"
     ]
    }
   ],
   "source": [
    "# Feature 1: Length of the Restaurant Name\n",
    "Restaurant_enterprise_data_task2['Restaurant Name Length'] = Restaurant_enterprise_data_task2['Restaurant Name'].apply(len)\n",
    "\n",
    "# Feature 2: Length of the Address\n",
    "Restaurant_enterprise_data_task2['Address Length'] = Restaurant_enterprise_data_task2['Address'].apply(len)\n",
    "\n",
    "# Feature 3: Number of Cuisines (assuming cuisines are comma-separated)\n",
    "Restaurant_enterprise_data_task2['Number of Cuisines'] = Restaurant_enterprise_data_task2['Cuisines'].apply(lambda x: len(str(x).split(',')))\n",
    "\n",
    "# Feature 4: Check if Restaurant Name Contains Specific Keywords (e.g., \"Cafe\", \"Bar\")\n",
    "Restaurant_enterprise_data_task2['Is Cafe'] = Restaurant_enterprise_data_task2['Restaurant Name'].str.contains('Cafe', case=False, na=False)\n",
    "Restaurant_enterprise_data_task2['Is Bar'] = Restaurant_enterprise_data_task2['Restaurant Name'].str.contains('Bar', case=False, na=False)\n",
    "\n",
    "# Display the first few rows with the new features\n",
    "print(Restaurant_enterprise_data_task2[['Restaurant Name', 'Restaurant Name Length', 'Address', 'Address Length', 'Cuisines', 'Number of Cuisines', 'Is Cafe', 'Is Bar']].head())"
   ]
  },
  {
   "cell_type": "code",
   "execution_count": 23,
   "id": "bfe53486",
   "metadata": {},
   "outputs": [],
   "source": [
    "#Create new features like \"Has Table Booking\" or \"Has Online Delivery\" by encoding categorical variables."
   ]
  },
  {
   "cell_type": "code",
   "execution_count": 24,
   "id": "f37ebb46",
   "metadata": {},
   "outputs": [
    {
     "name": "stdout",
     "output_type": "stream",
     "text": [
      "   Restaurant ID         Restaurant Name  Country Code              City  \\\n",
      "0        6317637        Le Petit Souffle           162       Makati City   \n",
      "1        6304287        Izakaya Kikufuji           162       Makati City   \n",
      "2        6300002  Heat - Edsa Shangri-La           162  Mandaluyong City   \n",
      "3        6318506                    Ooma           162  Mandaluyong City   \n",
      "4        6314302             Sambo Kojin           162  Mandaluyong City   \n",
      "\n",
      "                                             Address  \\\n",
      "0  Third Floor, Century City Mall, Kalayaan Avenu...   \n",
      "1  Little Tokyo, 2277 Chino Roces Avenue, Legaspi...   \n",
      "2  Edsa Shangri-La, 1 Garden Way, Ortigas, Mandal...   \n",
      "3  Third Floor, Mega Fashion Hall, SM Megamall, O...   \n",
      "4  Third Floor, Mega Atrium, SM Megamall, Ortigas...   \n",
      "\n",
      "                                     Locality  \\\n",
      "0   Century City Mall, Poblacion, Makati City   \n",
      "1  Little Tokyo, Legaspi Village, Makati City   \n",
      "2  Edsa Shangri-La, Ortigas, Mandaluyong City   \n",
      "3      SM Megamall, Ortigas, Mandaluyong City   \n",
      "4      SM Megamall, Ortigas, Mandaluyong City   \n",
      "\n",
      "                                    Locality Verbose   Longitude   Latitude  \\\n",
      "0  Century City Mall, Poblacion, Makati City, Mak...  121.027535  14.565443   \n",
      "1  Little Tokyo, Legaspi Village, Makati City, Ma...  121.014101  14.553708   \n",
      "2  Edsa Shangri-La, Ortigas, Mandaluyong City, Ma...  121.056831  14.581404   \n",
      "3  SM Megamall, Ortigas, Mandaluyong City, Mandal...  121.056475  14.585318   \n",
      "4  SM Megamall, Ortigas, Mandaluyong City, Mandal...  121.057508  14.584450   \n",
      "\n",
      "                           Cuisines  ...  Rating color Rating text Votes  \\\n",
      "0        French, Japanese, Desserts  ...    Dark Green   Excellent   314   \n",
      "1                          Japanese  ...    Dark Green   Excellent   591   \n",
      "2  Seafood, Asian, Filipino, Indian  ...         Green   Very Good   270   \n",
      "3                   Japanese, Sushi  ...    Dark Green   Excellent   365   \n",
      "4                  Japanese, Korean  ...    Dark Green   Excellent   229   \n",
      "\n",
      "  Restaurant Name Length Address Length Number of Cuisines  Is Cafe  Is Bar  \\\n",
      "0                     16             71                  3    False   False   \n",
      "1                     16             67                  1    False   False   \n",
      "2                     22             56                  4    False   False   \n",
      "3                      4             70                  2    False   False   \n",
      "4                     11             64                  2    False   False   \n",
      "\n",
      "  Table Booking_No Table Booking_Yes  \n",
      "0                0                 1  \n",
      "1                0                 1  \n",
      "2                0                 1  \n",
      "3                1                 0  \n",
      "4                0                 1  \n",
      "\n",
      "[5 rows x 28 columns]\n"
     ]
    }
   ],
   "source": [
    "# Apply one-hot encoding to a categorical column\n",
    "one_hot_encoded = pd.get_dummies(Restaurant_enterprise_data_task2['Has Table booking'], prefix='Table Booking')\n",
    "\n",
    "# Add one-hot encoded columns to the DataFrame\n",
    "Restaurant_enterprise_data_task2 = pd.concat([Restaurant_enterprise_data_task2, one_hot_encoded], axis=1)\n",
    "\n",
    "# Display the updated DataFrame\n",
    "print(Restaurant_enterprise_data_task2.head())\n"
   ]
  },
  {
   "cell_type": "code",
   "execution_count": 25,
   "id": "e003a047",
   "metadata": {},
   "outputs": [
    {
     "data": {
      "text/plain": [
       "Index(['Restaurant ID', 'Restaurant Name', 'Country Code', 'City', 'Address',\n",
       "       'Locality', 'Locality Verbose', 'Longitude', 'Latitude', 'Cuisines',\n",
       "       'Average Cost for two', 'Currency', 'Has Table booking',\n",
       "       'Has Online delivery', 'Is delivering now', 'Switch to order menu',\n",
       "       'Price range', 'Aggregate rating', 'Rating color', 'Rating text',\n",
       "       'Votes', 'Restaurant Name Length', 'Address Length',\n",
       "       'Number of Cuisines', 'Is Cafe', 'Is Bar', 'Table Booking_No',\n",
       "       'Table Booking_Yes'],\n",
       "      dtype='object')"
      ]
     },
     "execution_count": 25,
     "metadata": {},
     "output_type": "execute_result"
    }
   ],
   "source": [
    "Restaurant_enterprise_data_task2.columns"
   ]
  },
  {
   "cell_type": "code",
   "execution_count": 26,
   "id": "d85a7d03",
   "metadata": {},
   "outputs": [],
   "source": [
    "Restaurant_enterprise_data_task2.to_csv(r\"C:\\Users\\HP\\Documents\\cognifyz\\model prediction restaurant data.csv\")"
   ]
  },
  {
   "cell_type": "code",
   "execution_count": null,
   "id": "acc27424",
   "metadata": {},
   "outputs": [],
   "source": []
  }
 ],
 "metadata": {
  "kernelspec": {
   "display_name": "Python 3 (ipykernel)",
   "language": "python",
   "name": "python3"
  },
  "language_info": {
   "codemirror_mode": {
    "name": "ipython",
    "version": 3
   },
   "file_extension": ".py",
   "mimetype": "text/x-python",
   "name": "python",
   "nbconvert_exporter": "python",
   "pygments_lexer": "ipython3",
   "version": "3.10.9"
  }
 },
 "nbformat": 4,
 "nbformat_minor": 5
}
